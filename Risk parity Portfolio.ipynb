{
 "cells": [
  {
   "cell_type": "code",
   "execution_count": 281,
   "id": "ed373eb8",
   "metadata": {},
   "outputs": [],
   "source": [
    "import numpy as np\n",
    "import pandas as pd\n",
    "import yfinance as yf\n",
    "import datetime\n",
    "import riskfolio as rp"
   ]
  },
  {
   "cell_type": "code",
   "execution_count": 6,
   "id": "deaa3ee6",
   "metadata": {},
   "outputs": [],
   "source": [
    "yf.pdr_override()\n",
    "pd.options.display.float_format = '{:.4%}'.format"
   ]
  },
  {
   "cell_type": "code",
   "execution_count": 5,
   "id": "69ff73d9",
   "metadata": {},
   "outputs": [],
   "source": [
    "# Date range\n",
    "start = '2016-01-01'\n",
    "end = '2019-12-30'"
   ]
  },
  {
   "cell_type": "code",
   "execution_count": 7,
   "id": "47da40c6",
   "metadata": {},
   "outputs": [],
   "source": [
    "assets = ['SPY', 'GLD', 'TLT']\n",
    "assets.sort()"
   ]
  },
  {
   "cell_type": "code",
   "execution_count": 46,
   "id": "c4f5b757",
   "metadata": {},
   "outputs": [
    {
     "name": "stdout",
     "output_type": "stream",
     "text": [
      "[*********************100%***********************]  3 of 3 completed\n"
     ]
    }
   ],
   "source": [
    "# Downloading data\n",
    "# divide by hundred to obtain price\n",
    "data = (yf.download(assets, start = start, end = end)/100)\n",
    "data = data.loc[:,('Adj Close', slice(None))]\n",
    "data.columns = assets"
   ]
  },
  {
   "cell_type": "code",
   "execution_count": 49,
   "id": "967817ca",
   "metadata": {},
   "outputs": [
    {
     "data": {
      "text/html": [
       "<div>\n",
       "<style scoped>\n",
       "    .dataframe tbody tr th:only-of-type {\n",
       "        vertical-align: middle;\n",
       "    }\n",
       "\n",
       "    .dataframe tbody tr th {\n",
       "        vertical-align: top;\n",
       "    }\n",
       "\n",
       "    .dataframe thead th {\n",
       "        text-align: right;\n",
       "    }\n",
       "</style>\n",
       "<table border=\"1\" class=\"dataframe\">\n",
       "  <thead>\n",
       "    <tr style=\"text-align: right;\">\n",
       "      <th></th>\n",
       "      <th>GLD</th>\n",
       "      <th>SPY</th>\n",
       "      <th>TLT</th>\n",
       "    </tr>\n",
       "    <tr>\n",
       "      <th>Date</th>\n",
       "      <th></th>\n",
       "      <th></th>\n",
       "      <th></th>\n",
       "    </tr>\n",
       "  </thead>\n",
       "  <tbody>\n",
       "    <tr>\n",
       "      <th>2016-01-04</th>\n",
       "      <td>1.4094%</td>\n",
       "      <td>-1.3979%</td>\n",
       "      <td>0.7215%</td>\n",
       "    </tr>\n",
       "    <tr>\n",
       "      <th>2016-01-05</th>\n",
       "      <td>0.2819%</td>\n",
       "      <td>0.1691%</td>\n",
       "      <td>-0.4034%</td>\n",
       "    </tr>\n",
       "    <tr>\n",
       "      <th>2016-01-06</th>\n",
       "      <td>1.4441%</td>\n",
       "      <td>-1.2614%</td>\n",
       "      <td>1.3475%</td>\n",
       "    </tr>\n",
       "    <tr>\n",
       "      <th>2016-01-07</th>\n",
       "      <td>1.4140%</td>\n",
       "      <td>-2.3992%</td>\n",
       "      <td>0.1795%</td>\n",
       "    </tr>\n",
       "    <tr>\n",
       "      <th>2016-01-08</th>\n",
       "      <td>-0.4428%</td>\n",
       "      <td>-1.0977%</td>\n",
       "      <td>0.4479%</td>\n",
       "    </tr>\n",
       "    <tr>\n",
       "      <th>...</th>\n",
       "      <td>...</td>\n",
       "      <td>...</td>\n",
       "      <td>...</td>\n",
       "    </tr>\n",
       "    <tr>\n",
       "      <th>2019-12-20</th>\n",
       "      <td>0.1004%</td>\n",
       "      <td>0.4384%</td>\n",
       "      <td>0.1319%</td>\n",
       "    </tr>\n",
       "    <tr>\n",
       "      <th>2019-12-23</th>\n",
       "      <td>0.3082%</td>\n",
       "      <td>0.1528%</td>\n",
       "      <td>-0.1464%</td>\n",
       "    </tr>\n",
       "    <tr>\n",
       "      <th>2019-12-24</th>\n",
       "      <td>0.9432%</td>\n",
       "      <td>0.0031%</td>\n",
       "      <td>0.2858%</td>\n",
       "    </tr>\n",
       "    <tr>\n",
       "      <th>2019-12-26</th>\n",
       "      <td>0.7857%</td>\n",
       "      <td>0.5323%</td>\n",
       "      <td>0.2412%</td>\n",
       "    </tr>\n",
       "    <tr>\n",
       "      <th>2019-12-27</th>\n",
       "      <td>-0.0351%</td>\n",
       "      <td>-0.0248%</td>\n",
       "      <td>0.1094%</td>\n",
       "    </tr>\n",
       "  </tbody>\n",
       "</table>\n",
       "<p>1004 rows × 3 columns</p>\n",
       "</div>"
      ],
      "text/plain": [
       "                GLD      SPY      TLT\n",
       "Date                                 \n",
       "2016-01-04  1.4094% -1.3979%  0.7215%\n",
       "2016-01-05  0.2819%  0.1691% -0.4034%\n",
       "2016-01-06  1.4441% -1.2614%  1.3475%\n",
       "2016-01-07  1.4140% -2.3992%  0.1795%\n",
       "2016-01-08 -0.4428% -1.0977%  0.4479%\n",
       "...             ...      ...      ...\n",
       "2019-12-20  0.1004%  0.4384%  0.1319%\n",
       "2019-12-23  0.3082%  0.1528% -0.1464%\n",
       "2019-12-24  0.9432%  0.0031%  0.2858%\n",
       "2019-12-26  0.7857%  0.5323%  0.2412%\n",
       "2019-12-27 -0.0351% -0.0248%  0.1094%\n",
       "\n",
       "[1004 rows x 3 columns]"
      ]
     },
     "execution_count": 49,
     "metadata": {},
     "output_type": "execute_result"
    }
   ],
   "source": [
    "# Calculating returns\n",
    "# pct change between the current and a prior element\n",
    "Y = data[assets].pct_change().dropna()\n",
    "Y"
   ]
  },
  {
   "cell_type": "markdown",
   "id": "9092b5c2",
   "metadata": {},
   "source": [
    "### Using an equal risk contribution portfolio"
   ]
  },
  {
   "cell_type": "code",
   "execution_count": 48,
   "id": "7d8281ac",
   "metadata": {},
   "outputs": [
    {
     "data": {
      "text/html": [
       "<div>\n",
       "<style scoped>\n",
       "    .dataframe tbody tr th:only-of-type {\n",
       "        vertical-align: middle;\n",
       "    }\n",
       "\n",
       "    .dataframe tbody tr th {\n",
       "        vertical-align: top;\n",
       "    }\n",
       "\n",
       "    .dataframe thead th {\n",
       "        text-align: right;\n",
       "    }\n",
       "</style>\n",
       "<table border=\"1\" class=\"dataframe\">\n",
       "  <thead>\n",
       "    <tr style=\"text-align: right;\">\n",
       "      <th></th>\n",
       "      <th>GLD</th>\n",
       "      <th>SPY</th>\n",
       "      <th>TLT</th>\n",
       "    </tr>\n",
       "  </thead>\n",
       "  <tbody>\n",
       "    <tr>\n",
       "      <th>weights</th>\n",
       "      <td>27.8529%</td>\n",
       "      <td>37.9312%</td>\n",
       "      <td>34.2159%</td>\n",
       "    </tr>\n",
       "  </tbody>\n",
       "</table>\n",
       "</div>"
      ],
      "text/plain": [
       "             GLD      SPY      TLT\n",
       "weights 27.8529% 37.9312% 34.2159%"
      ]
     },
     "metadata": {},
     "output_type": "display_data"
    }
   ],
   "source": [
    "import riskfolio as rp\n",
    "\n",
    "# Building the portfolio object\n",
    "port = rp.Portfolio(returns=Y)\n",
    "\n",
    "# Calculating optimal portfolio\n",
    "\n",
    "# Select method and estimate input parameters:\n",
    "\n",
    "method_mu='hist' # Method to estimate expected returns based on historical data.\n",
    "method_cov='hist' # Method to estimate covariance matrix based on historical data.\n",
    "\n",
    "port.assets_stats(method_mu=method_mu, method_cov=method_cov, d=0.94)\n",
    "\n",
    "# Estimate optimal portfolio:\n",
    "\n",
    "model='Classic' # use estimates of expected return vector and covariance matrix that depends on historical data\n",
    "rm = 'MV' # Risk measure used, Standard Deviation\n",
    "hist = True # Use historical scenarios for risk measures that depend on scenarios\n",
    "rf = 0 # Risk free rate (the rate of return of an investment with no risk of loss)\n",
    "b = None # vector of risk constraints per asset \n",
    "w_rp = port.rp_optimization(model=model, rm=rm, rf=rf, b=b, hist=hist)\n",
    "\n",
    "display(w_rp.T)"
   ]
  },
  {
   "cell_type": "code",
   "execution_count": 76,
   "id": "ab06d70a",
   "metadata": {},
   "outputs": [
    {
     "data": {
      "text/plain": [
       "0.2785288572030592"
      ]
     },
     "execution_count": 76,
     "metadata": {},
     "output_type": "execute_result"
    }
   ],
   "source": [
    "# Model\n",
    "w_rp.loc[\"GLD\", \"weights\"]"
   ]
  },
  {
   "cell_type": "code",
   "execution_count": 50,
   "id": "8aee7d39",
   "metadata": {},
   "outputs": [
    {
     "data": {
      "image/png": "[encoded data removed]",
      "text/plain": [
       "<Figure size 720x432 with 1 Axes>"
      ]
     },
     "metadata": {},
     "output_type": "display_data"
    }
   ],
   "source": [
    "ax = rp.plot_pie(w=w_rp,\n",
    "                 title='Risk Parity Variance',\n",
    "                 others=0.05,\n",
    "                 nrow=25,\n",
    "                 cmap = \"tab20\",\n",
    "                 height=6,\n",
    "                 width=10,\n",
    "                 ax=None)"
   ]
  },
  {
   "cell_type": "markdown",
   "id": "027ea701",
   "metadata": {},
   "source": [
    "### Backtesting"
   ]
  },
  {
   "cell_type": "markdown",
   "id": "7aa15960",
   "metadata": {},
   "source": [
    "Metholodogy\n",
    "- Sliding window approach\n",
    "- Run Risk parity model on ith year\n",
    "- Obtain weights from ith year and use on (i+1)th year\n",
    "- Simultaneously calculate both portfolio performance using Volatility, Returns, Sharpe Ratio for baseline(1/3 weight for each asset) and Risk Parity Weights on (i+1)th year\n",
    "- Compare metrics in pandas dataframe\n",
    "\n",
    "Assume\n",
    "- risk free rate of 2.85%\n",
    "- assume no transaction cost/commission rate"
   ]
  },
  {
   "cell_type": "code",
   "execution_count": 277,
   "id": "d4d5912e",
   "metadata": {},
   "outputs": [],
   "source": [
    "# Run test on y1, test performance on y2\n",
    "# Download\n",
    "def download_data(cur_year, returns = 0):\n",
    "    # start and end of year\n",
    "    first_day_of_year = datetime.date.min.replace(year = cur_year)\n",
    "    last_day_of_year = datetime.date.max.replace(year = cur_year)\n",
    "\n",
    "    # download for assets\n",
    "    assets = ['SPY', 'GLD', 'TLT']\n",
    "    assets.sort()\n",
    "    data = yf.download(assets, start = first_day_of_year, end = last_day_of_year)\n",
    "    data = data.loc[:,('Adj Close', slice(None))]\n",
    "    data.columns = assets\n",
    "\n",
    "    if returns:\n",
    "        return data, data[assets].pct_change().dropna()\n",
    "    return data\n",
    "\n",
    "# Model\n",
    "def model_rpp(returns_daily):\n",
    "    # Building the portfolio object\n",
    "    port = rp.Portfolio(returns = returns_daily)\n",
    "\n",
    "    # Calculating optimal portfolio\n",
    "\n",
    "    # Select method and estimate input parameters:\n",
    "\n",
    "    method_mu='hist' # Method to estimate expected returns based on historical data.\n",
    "    method_cov='hist' # Method to estimate covariance matrix based on historical data.\n",
    "\n",
    "    port.assets_stats(method_mu=method_mu, method_cov=method_cov, d=0.94)\n",
    "\n",
    "    # Estimate optimal portfolio:\n",
    "\n",
    "    model='Classic' # use estimates of expected return vector and covariance matrix that depends on historical data\n",
    "    rm = 'MV' # Risk measure used, Standard Deviation\n",
    "    hist = True # Use historical scenarios for risk measures that depend on scenarios\n",
    "    rf = 0 # Risk free rate (the rate of return of an investment with no risk of loss)\n",
    "    b = None # vector of risk constraints per asset \n",
    "    w_rp = port.rp_optimization(model=model, rm=rm, rf=rf, b=b, hist=hist)\n",
    "    return w_rp\n",
    "\n",
    "# obtain weights for specific asset\n",
    "def obtain_weight(rp_df, asset):\n",
    "    #assets = ['SPY', 'GLD', 'TLT']\n",
    "    return rp_df.loc[asset, \"weights\"]\n",
    "\n",
    "# Test on y2  \n",
    "# start price in y2\n",
    "def obtain_start_price(asset, df):\n",
    "    return df.iloc[0, :][asset] \n",
    "\n",
    "# final price end of y2 for specific asset\n",
    "def obtain_end_price(asset, df):\n",
    "    return df.iloc[-1, :][asset]\n",
    "\n",
    "def calculate_volatility(returns, alloc_pct):\n",
    "    covariance = np.cov(returns.T)\n",
    "    if type(alloc_pct) == type(pd.DataFrame()):\n",
    "        weight_vector = alloc_pct.to_numpy().T\n",
    "    else:\n",
    "        weight_vector = alloc_pct\n",
    "        \n",
    "    portfolio_volatility = np.sqrt(np.dot(np.dot(weight_vector, covariance), weight_vector.T))\n",
    "    return portfolio_volatility[0][0]\n",
    "\n",
    "def calculate_sharpe_ratio(returns):\n",
    "    # risk free rate from US treasury bond is 2.85%, 252 trading days annualized\n",
    "    num_trading_days = 252\n",
    "    sqrt_day = np.sqrt(num_trading_days)\n",
    "    return (returns.mean()*num_trading_days - 0.0285)/(returns.std()*np.sqrt(num_trading_days))"
   ]
  },
  {
   "cell_type": "code",
   "execution_count": 280,
   "id": "bc8434c7",
   "metadata": {
    "scrolled": true
   },
   "outputs": [
    {
     "name": "stdout",
     "output_type": "stream",
     "text": [
      "[*********************100%***********************]  3 of 3 completed\n",
      "[*********************100%***********************]  3 of 3 completed\n",
      "[*********************100%***********************]  3 of 3 completed\n",
      "[*********************100%***********************]  3 of 3 completed\n",
      "[*********************100%***********************]  3 of 3 completed\n",
      "[*********************100%***********************]  3 of 3 completed\n",
      "[*********************100%***********************]  3 of 3 completed\n",
      "[*********************100%***********************]  3 of 3 completed\n",
      "[*********************100%***********************]  3 of 3 completed\n"
     ]
    },
    {
     "data": {
      "text/html": [
       "<div>\n",
       "<style scoped>\n",
       "    .dataframe tbody tr th:only-of-type {\n",
       "        vertical-align: middle;\n",
       "    }\n",
       "\n",
       "    .dataframe tbody tr th {\n",
       "        vertical-align: top;\n",
       "    }\n",
       "\n",
       "    .dataframe thead th {\n",
       "        text-align: right;\n",
       "    }\n",
       "</style>\n",
       "<table border=\"1\" class=\"dataframe\">\n",
       "  <thead>\n",
       "    <tr style=\"text-align: right;\">\n",
       "      <th></th>\n",
       "      <th>portfolio_volatility</th>\n",
       "      <th>baseline_portfolio_volatility</th>\n",
       "      <th>annual_returns</th>\n",
       "      <th>baseline_annual_returns</th>\n",
       "      <th>sharpe_ratio</th>\n",
       "      <th>baseline_sharpe_ratio</th>\n",
       "    </tr>\n",
       "  </thead>\n",
       "  <tbody>\n",
       "    <tr>\n",
       "      <th>2011</th>\n",
       "      <td>0.005133</td>\n",
       "      <td>0.005693</td>\n",
       "      <td>16.845092</td>\n",
       "      <td>16.845092</td>\n",
       "      <td>1.555847</td>\n",
       "      <td>1.265016</td>\n",
       "    </tr>\n",
       "    <tr>\n",
       "      <th>2012</th>\n",
       "      <td>0.003929</td>\n",
       "      <td>0.004442</td>\n",
       "      <td>7.580500</td>\n",
       "      <td>7.580500</td>\n",
       "      <td>0.771303</td>\n",
       "      <td>0.609247</td>\n",
       "    </tr>\n",
       "    <tr>\n",
       "      <th>2013</th>\n",
       "      <td>0.005250</td>\n",
       "      <td>0.006237</td>\n",
       "      <td>2.487065</td>\n",
       "      <td>2.487065</td>\n",
       "      <td>-0.008562</td>\n",
       "      <td>-0.634795</td>\n",
       "    </tr>\n",
       "    <tr>\n",
       "      <th>2014</th>\n",
       "      <td>0.003445</td>\n",
       "      <td>0.004006</td>\n",
       "      <td>16.411130</td>\n",
       "      <td>16.411130</td>\n",
       "      <td>2.326263</td>\n",
       "      <td>1.627696</td>\n",
       "    </tr>\n",
       "    <tr>\n",
       "      <th>2015</th>\n",
       "      <td>0.004997</td>\n",
       "      <td>0.005095</td>\n",
       "      <td>-2.180331</td>\n",
       "      <td>-2.180331</td>\n",
       "      <td>-0.600755</td>\n",
       "      <td>-0.764060</td>\n",
       "    </tr>\n",
       "    <tr>\n",
       "      <th>2016</th>\n",
       "      <td>0.004575</td>\n",
       "      <td>0.004827</td>\n",
       "      <td>7.226825</td>\n",
       "      <td>7.226825</td>\n",
       "      <td>0.589769</td>\n",
       "      <td>0.541201</td>\n",
       "    </tr>\n",
       "    <tr>\n",
       "      <th>2017</th>\n",
       "      <td>0.003007</td>\n",
       "      <td>0.003444</td>\n",
       "      <td>14.786016</td>\n",
       "      <td>14.786016</td>\n",
       "      <td>2.350179</td>\n",
       "      <td>1.899591</td>\n",
       "    </tr>\n",
       "    <tr>\n",
       "      <th>2018</th>\n",
       "      <td>0.005449</td>\n",
       "      <td>0.004213</td>\n",
       "      <td>-4.084463</td>\n",
       "      <td>-4.084463</td>\n",
       "      <td>-0.761478</td>\n",
       "      <td>-0.911333</td>\n",
       "    </tr>\n",
       "  </tbody>\n",
       "</table>\n",
       "</div>"
      ],
      "text/plain": [
       "      portfolio_volatility  baseline_portfolio_volatility  annual_returns  \\\n",
       "2011              0.005133                       0.005693       16.845092   \n",
       "2012              0.003929                       0.004442        7.580500   \n",
       "2013              0.005250                       0.006237        2.487065   \n",
       "2014              0.003445                       0.004006       16.411130   \n",
       "2015              0.004997                       0.005095       -2.180331   \n",
       "2016              0.004575                       0.004827        7.226825   \n",
       "2017              0.003007                       0.003444       14.786016   \n",
       "2018              0.005449                       0.004213       -4.084463   \n",
       "\n",
       "      baseline_annual_returns  sharpe_ratio  baseline_sharpe_ratio  \n",
       "2011                16.845092      1.555847               1.265016  \n",
       "2012                 7.580500      0.771303               0.609247  \n",
       "2013                 2.487065     -0.008562              -0.634795  \n",
       "2014                16.411130      2.326263               1.627696  \n",
       "2015                -2.180331     -0.600755              -0.764060  \n",
       "2016                 7.226825      0.589769               0.541201  \n",
       "2017                14.786016      2.350179               1.899591  \n",
       "2018                -4.084463     -0.761478              -0.911333  "
      ]
     },
     "execution_count": 280,
     "metadata": {},
     "output_type": "execute_result"
    }
   ],
   "source": [
    "portfolio_volatility = []\n",
    "baseline_portfolio_volatility = []\n",
    "annual_returns = []\n",
    "baseline_annual_returns = []\n",
    "sharpe_list = []\n",
    "baseline_sharpe_list = []\n",
    "\n",
    "base = 0\n",
    "init = 0\n",
    "\n",
    "start_year = 2010\n",
    "end_year = 2019\n",
    "downloaded_data = [False for i in range(start_year, end_year)]\n",
    "\n",
    "# Year Test\n",
    "for cur_year in range(start_year, end_year):\n",
    "    if cur_year < end_year-1:\n",
    "        assets = ['SPY', 'GLD', 'TLT']\n",
    "        assets.sort()\n",
    "\n",
    "        # to set index for downloaded_data\n",
    "        if init == 0:\n",
    "            base_year = cur_year\n",
    "            init = 1\n",
    "\n",
    "        # Store to avoid repeated downloads\n",
    "        # Download data, Y1\n",
    "        idx_i = cur_year-base_year\n",
    "        # not present, download\n",
    "        if not downloaded_data[idx_i]:\n",
    "            downloaded_data_y1, downloaded_data_y1_returns = download_data(cur_year, True)\n",
    "            downloaded_data[idx_i] = [downloaded_data_y1, downloaded_data_y1_returns]\n",
    "        # if present, retrieve\n",
    "        else:\n",
    "            downloaded_data_y1, downloaded_data_y1_returns = downloaded_data[idx_i][0], downloaded_data[idx_i][1]\n",
    "\n",
    "        # Download data, Y2 \n",
    "    #         print(len(downloaded_data))\n",
    "    #         print(cur_year, idx_i+1)\n",
    "        if not downloaded_data[idx_i+1]:\n",
    "            downloaded_data_y2, downloaded_data_y2_returns = download_data(cur_year + 1, True)\n",
    "            downloaded_data[idx_i+1] = [downloaded_data_y2, downloaded_data_y2_returns]\n",
    "        else:\n",
    "            downloaded_data_y2, downloaded_data_y2_returns = downloaded_data[idx_i+1][0], downloaded_data[idx_i+1][1]\n",
    "\n",
    "        # deep copy for separate baseline values\n",
    "        baseline_downloaded_data_y2 = downloaded_data_y2.copy(deep = True)\n",
    "\n",
    "        # starting variables\n",
    "        alloc_pct = model_rpp(downloaded_data_y1_returns)\n",
    "        returns_df = {}\n",
    "        starting_amt = 100000\n",
    "        new_portfolio = 0\n",
    "        new_baseline_portfolio = 0\n",
    "\n",
    "        for asset in assets:\n",
    "            weight =  obtain_weight(alloc_pct, asset)\n",
    "            # RPP\n",
    "            budget = weight * starting_amt\n",
    "            # Baseline\n",
    "            baseline_budget = (1/3) * starting_amt\n",
    "\n",
    "            # start price in y2\n",
    "            start_price = obtain_start_price(asset, downloaded_data_y2)\n",
    "            # RPP\n",
    "            position_size = budget/start_price\n",
    "            downloaded_data_y2[asset] = downloaded_data_y2[asset] * position_size\n",
    "\n",
    "            # Baseline\n",
    "            baseline_position_size  = baseline_budget/start_price\n",
    "            baseline_downloaded_data_y2[asset] = baseline_downloaded_data_y2[asset] * baseline_position_size\n",
    "\n",
    "\n",
    "        downloaded_data_y2[\"Total\"] = downloaded_data_y2[list(downloaded_data_y2.columns)].sum(axis = 1)\n",
    "        baseline_downloaded_data_y2[\"Total\"] = baseline_downloaded_data_y2[list(baseline_downloaded_data_y2.columns)].sum(axis = 1)\n",
    "        \n",
    "        new_portfolio = obtain_end_price(\"Total\", downloaded_data_y2)\n",
    "        new_baseline_portfolio = obtain_end_price(\"Total\", baseline_downloaded_data_y2)\n",
    "\n",
    "        # calculate sharpe ratio\n",
    "        sharpe = calculate_sharpe_ratio(downloaded_data_y2[\"Total\"].pct_change(1).dropna())\n",
    "        baseline_sharpe = calculate_sharpe_ratio(baseline_downloaded_data_y2[\"Total\"].pct_change(1).dropna())\n",
    "        sharpe_list.append(sharpe)\n",
    "        baseline_sharpe_list.append(baseline_sharpe)\n",
    "\n",
    "        # volatility\n",
    "        volatility = calculate_volatility(downloaded_data_y2_returns, alloc_pct)\n",
    "        baseline_volatility = calculate_volatility(downloaded_data_y2_returns, np.array([[1/3]*3]))\n",
    "\n",
    "        # baseline volatility\n",
    "        portfolio_volatility.append(volatility)\n",
    "        baseline_portfolio_volatility.append(baseline_volatility)\n",
    "\n",
    "        # overall returns \n",
    "        overall_portfolio_returns = ((new_portfolio-starting_amt)/starting_amt) * 100\n",
    "        baseline_overall_portfolio_returns = ((new_baseline_portfolio-starting_amt)/starting_amt) * 100\n",
    "\n",
    "        # baseline overall returns\n",
    "        annual_returns.append(overall_portfolio_returns)\n",
    "        baseline_annual_returns.append(baseline_overall_portfolio_returns)\n",
    "\n",
    "pd.DataFrame({\"portfolio_volatility\" : portfolio_volatility, \"baseline_portfolio_volatility\" :baseline_portfolio_volatility,\n",
    "             \"annual_returns\" : annual_returns, \"baseline_annual_returns\":annual_returns,\n",
    "              \"sharpe_ratio\":sharpe_list, \"baseline_sharpe_ratio\":baseline_sharpe_list}, index = [i for i in range(start_year+1, end_year)])"
   ]
  },
  {
   "cell_type": "markdown",
   "id": "6b4ed189",
   "metadata": {},
   "source": [
    "# Test Calculations"
   ]
  },
  {
   "cell_type": "code",
   "execution_count": 196,
   "id": "78bed0ed",
   "metadata": {},
   "outputs": [
    {
     "name": "stdout",
     "output_type": "stream",
     "text": [
      "[*********************100%***********************]  3 of 3 completed\n"
     ]
    }
   ],
   "source": [
    "test_data, test_data_returns = download_data(2020, 1)"
   ]
  },
  {
   "cell_type": "code",
   "execution_count": 235,
   "id": "bc16e68c",
   "metadata": {},
   "outputs": [
    {
     "data": {
      "text/plain": [
       "0.00544912453951916"
      ]
     },
     "execution_count": 235,
     "metadata": {},
     "output_type": "execute_result"
    }
   ],
   "source": [
    "calculate_volatility(downloaded_data_y2_returns, alloc_pct)"
   ]
  },
  {
   "cell_type": "code",
   "execution_count": 253,
   "id": "1c907de1",
   "metadata": {},
   "outputs": [
    {
     "data": {
      "text/html": [
       "<div>\n",
       "<style scoped>\n",
       "    .dataframe tbody tr th:only-of-type {\n",
       "        vertical-align: middle;\n",
       "    }\n",
       "\n",
       "    .dataframe tbody tr th {\n",
       "        vertical-align: top;\n",
       "    }\n",
       "\n",
       "    .dataframe thead th {\n",
       "        text-align: right;\n",
       "    }\n",
       "</style>\n",
       "<table border=\"1\" class=\"dataframe\">\n",
       "  <thead>\n",
       "    <tr style=\"text-align: right;\">\n",
       "      <th></th>\n",
       "      <th>col1</th>\n",
       "    </tr>\n",
       "  </thead>\n",
       "  <tbody>\n",
       "    <tr>\n",
       "      <th>1</th>\n",
       "      <td>1.000000</td>\n",
       "    </tr>\n",
       "    <tr>\n",
       "      <th>2</th>\n",
       "      <td>0.500000</td>\n",
       "    </tr>\n",
       "    <tr>\n",
       "      <th>3</th>\n",
       "      <td>0.333333</td>\n",
       "    </tr>\n",
       "  </tbody>\n",
       "</table>\n",
       "</div>"
      ],
      "text/plain": [
       "       col1\n",
       "1  1.000000\n",
       "2  0.500000\n",
       "3  0.333333"
      ]
     },
     "execution_count": 253,
     "metadata": {},
     "output_type": "execute_result"
    }
   ],
   "source": [
    "pd.DataFrame({\"col1\" : [1,2,3,4]}).pct_change().dropna()"
   ]
  },
  {
   "cell_type": "code",
   "execution_count": 237,
   "id": "dc2c8659",
   "metadata": {},
   "outputs": [
    {
     "data": {
      "text/html": [
       "<div>\n",
       "<style scoped>\n",
       "    .dataframe tbody tr th:only-of-type {\n",
       "        vertical-align: middle;\n",
       "    }\n",
       "\n",
       "    .dataframe tbody tr th {\n",
       "        vertical-align: top;\n",
       "    }\n",
       "\n",
       "    .dataframe thead th {\n",
       "        text-align: right;\n",
       "    }\n",
       "</style>\n",
       "<table border=\"1\" class=\"dataframe\">\n",
       "  <thead>\n",
       "    <tr style=\"text-align: right;\">\n",
       "      <th></th>\n",
       "      <th>GLD</th>\n",
       "      <th>SPY</th>\n",
       "      <th>TLT</th>\n",
       "    </tr>\n",
       "    <tr>\n",
       "      <th>Date</th>\n",
       "      <th></th>\n",
       "      <th></th>\n",
       "      <th></th>\n",
       "    </tr>\n",
       "  </thead>\n",
       "  <tbody>\n",
       "    <tr>\n",
       "      <th>2018-01-03</th>\n",
       "      <td>-0.002637</td>\n",
       "      <td>0.006325</td>\n",
       "      <td>0.004781</td>\n",
       "    </tr>\n",
       "    <tr>\n",
       "      <th>2018-01-04</th>\n",
       "      <td>0.005127</td>\n",
       "      <td>0.004215</td>\n",
       "      <td>-0.000158</td>\n",
       "    </tr>\n",
       "    <tr>\n",
       "      <th>2018-01-05</th>\n",
       "      <td>-0.001036</td>\n",
       "      <td>0.006664</td>\n",
       "      <td>-0.002856</td>\n",
       "    </tr>\n",
       "    <tr>\n",
       "      <th>2018-01-08</th>\n",
       "      <td>-0.000160</td>\n",
       "      <td>0.001829</td>\n",
       "      <td>-0.000636</td>\n",
       "    </tr>\n",
       "    <tr>\n",
       "      <th>2018-01-09</th>\n",
       "      <td>-0.004628</td>\n",
       "      <td>0.002263</td>\n",
       "      <td>-0.013373</td>\n",
       "    </tr>\n",
       "    <tr>\n",
       "      <th>...</th>\n",
       "      <td>...</td>\n",
       "      <td>...</td>\n",
       "      <td>...</td>\n",
       "    </tr>\n",
       "    <tr>\n",
       "      <th>2018-12-21</th>\n",
       "      <td>-0.004361</td>\n",
       "      <td>-0.020490</td>\n",
       "      <td>-0.000166</td>\n",
       "    </tr>\n",
       "    <tr>\n",
       "      <th>2018-12-24</th>\n",
       "      <td>0.010950</td>\n",
       "      <td>-0.026423</td>\n",
       "      <td>0.004970</td>\n",
       "    </tr>\n",
       "    <tr>\n",
       "      <th>2018-12-26</th>\n",
       "      <td>-0.002999</td>\n",
       "      <td>0.050525</td>\n",
       "      <td>-0.010715</td>\n",
       "    </tr>\n",
       "    <tr>\n",
       "      <th>2018-12-27</th>\n",
       "      <td>0.007605</td>\n",
       "      <td>0.007677</td>\n",
       "      <td>0.000167</td>\n",
       "    </tr>\n",
       "    <tr>\n",
       "      <th>2018-12-28</th>\n",
       "      <td>0.004064</td>\n",
       "      <td>-0.001290</td>\n",
       "      <td>0.008414</td>\n",
       "    </tr>\n",
       "  </tbody>\n",
       "</table>\n",
       "<p>249 rows × 3 columns</p>\n",
       "</div>"
      ],
      "text/plain": [
       "                 GLD       SPY       TLT\n",
       "Date                                    \n",
       "2018-01-03 -0.002637  0.006325  0.004781\n",
       "2018-01-04  0.005127  0.004215 -0.000158\n",
       "2018-01-05 -0.001036  0.006664 -0.002856\n",
       "2018-01-08 -0.000160  0.001829 -0.000636\n",
       "2018-01-09 -0.004628  0.002263 -0.013373\n",
       "...              ...       ...       ...\n",
       "2018-12-21 -0.004361 -0.020490 -0.000166\n",
       "2018-12-24  0.010950 -0.026423  0.004970\n",
       "2018-12-26 -0.002999  0.050525 -0.010715\n",
       "2018-12-27  0.007605  0.007677  0.000167\n",
       "2018-12-28  0.004064 -0.001290  0.008414\n",
       "\n",
       "[249 rows x 3 columns]"
      ]
     },
     "execution_count": 237,
     "metadata": {},
     "output_type": "execute_result"
    }
   ],
   "source": [
    "downloaded_data_y2_returns"
   ]
  },
  {
   "cell_type": "markdown",
   "id": "90431dfe",
   "metadata": {},
   "source": [
    "##### Numpy  Sum total"
   ]
  },
  {
   "cell_type": "code",
   "execution_count": 197,
   "id": "9bc9811d",
   "metadata": {},
   "outputs": [],
   "source": [
    "value_alloc = model_rpp(test_data_returns)*starting_amt"
   ]
  },
  {
   "cell_type": "code",
   "execution_count": 198,
   "id": "5c06ea3d",
   "metadata": {},
   "outputs": [
    {
     "data": {
      "text/html": [
       "<div>\n",
       "<style scoped>\n",
       "    .dataframe tbody tr th:only-of-type {\n",
       "        vertical-align: middle;\n",
       "    }\n",
       "\n",
       "    .dataframe tbody tr th {\n",
       "        vertical-align: top;\n",
       "    }\n",
       "\n",
       "    .dataframe thead th {\n",
       "        text-align: right;\n",
       "    }\n",
       "</style>\n",
       "<table border=\"1\" class=\"dataframe\">\n",
       "  <thead>\n",
       "    <tr style=\"text-align: right;\">\n",
       "      <th></th>\n",
       "      <th>weights</th>\n",
       "    </tr>\n",
       "  </thead>\n",
       "  <tbody>\n",
       "    <tr>\n",
       "      <th>GLD</th>\n",
       "      <td>30179.187973</td>\n",
       "    </tr>\n",
       "    <tr>\n",
       "      <th>SPY</th>\n",
       "      <td>27518.537734</td>\n",
       "    </tr>\n",
       "    <tr>\n",
       "      <th>TLT</th>\n",
       "      <td>42302.274293</td>\n",
       "    </tr>\n",
       "  </tbody>\n",
       "</table>\n",
       "</div>"
      ],
      "text/plain": [
       "          weights\n",
       "GLD  30179.187973\n",
       "SPY  27518.537734\n",
       "TLT  42302.274293"
      ]
     },
     "execution_count": 198,
     "metadata": {},
     "output_type": "execute_result"
    }
   ],
   "source": [
    "value_alloc"
   ]
  },
  {
   "cell_type": "code",
   "execution_count": 199,
   "id": "ef544a50",
   "metadata": {},
   "outputs": [
    {
     "data": {
      "text/plain": [
       "array([142.8999939 , 310.83752441, 130.91235352])"
      ]
     },
     "execution_count": 199,
     "metadata": {},
     "output_type": "execute_result"
    }
   ],
   "source": [
    "# start prices\n",
    "obtain_start_price(assets, test_data).to_numpy()"
   ]
  },
  {
   "cell_type": "code",
   "execution_count": 200,
   "id": "e6cf0c58",
   "metadata": {},
   "outputs": [
    {
     "data": {
      "text/plain": [
       "array([[211.19096754,  88.530295  , 323.1343197 ]])"
      ]
     },
     "execution_count": 200,
     "metadata": {},
     "output_type": "execute_result"
    }
   ],
   "source": [
    "# position sizes\n",
    "position_sizes = np.divide(value_alloc.to_numpy().T, obtain_start_price(assets, test_data).to_numpy().T)\n",
    "position_sizes"
   ]
  },
  {
   "cell_type": "code",
   "execution_count": 201,
   "id": "01785379",
   "metadata": {},
   "outputs": [
    {
     "data": {
      "text/plain": [
       "array([177.69999695, 365.95974731, 154.45036316])"
      ]
     },
     "execution_count": 201,
     "metadata": {},
     "output_type": "execute_result"
    }
   ],
   "source": [
    "obtain_end_price(assets, test_data).to_numpy()"
   ]
  },
  {
   "cell_type": "code",
   "execution_count": 202,
   "id": "952b0fce",
   "metadata": {},
   "outputs": [
    {
     "data": {
      "text/plain": [
       "array([119835.37170272])"
      ]
     },
     "execution_count": 202,
     "metadata": {},
     "output_type": "execute_result"
    }
   ],
   "source": [
    "np.dot(position_sizes, obtain_end_price(assets, test_data).to_numpy())"
   ]
  },
  {
   "cell_type": "code",
   "execution_count": 203,
   "id": "6017bed6",
   "metadata": {},
   "outputs": [
    {
     "data": {
      "text/plain": [
       "122273.04815559671"
      ]
     },
     "execution_count": 203,
     "metadata": {},
     "output_type": "execute_result"
    }
   ],
   "source": [
    "223.75301918*142.63000488 + 171.96897392*310.08432007 + 280.12295729*132.2071991"
   ]
  },
  {
   "cell_type": "code",
   "execution_count": 204,
   "id": "e070321a",
   "metadata": {},
   "outputs": [
    {
     "data": {
      "text/plain": [
       "array([100000.])"
      ]
     },
     "execution_count": 204,
     "metadata": {},
     "output_type": "execute_result"
    }
   ],
   "source": [
    "np.dot(position_sizes, obtain_start_price(assets, test_data).to_numpy())"
   ]
  },
  {
   "cell_type": "code",
   "execution_count": 205,
   "id": "d43235a7",
   "metadata": {},
   "outputs": [
    {
     "data": {
      "text/plain": [
       "0.2227304815559671"
      ]
     },
     "execution_count": 205,
     "metadata": {},
     "output_type": "execute_result"
    }
   ],
   "source": [
    "(122273.04815559671 - 100000)/100000"
   ]
  },
  {
   "cell_type": "markdown",
   "id": "ed3891f0",
   "metadata": {},
   "source": [
    "# Metrics for performance\n",
    "# Experimenting"
   ]
  },
  {
   "cell_type": "code",
   "execution_count": 38,
   "id": "fc761f8f",
   "metadata": {},
   "outputs": [
    {
     "name": "stdout",
     "output_type": "stream",
     "text": [
      "[*********************100%***********************]  2 of 2 completed\n"
     ]
    }
   ],
   "source": [
    "import yfinance as yf\n",
    "# get the list of ticker symbols\n",
    "snp_ticker_symbols = [\"GLD\", \"SPY\"]\n",
    "# download some data from yahoo\n",
    "data = yf.download(\n",
    "        tickers = snp_ticker_symbols,\n",
    "        period = '3mo',\n",
    "        interval = '1d'\n",
    "    )\n",
    "prices = data['Adj Close']\n",
    "\n",
    "import numpy as np\n",
    "returns = prices.pct_change()\n",
    "# first we choose the parameters of the Dirichlet distribution\n",
    "alphas = .05*np.ones(returns.shape[1])\n",
    "# sample 100 random portfolios\n",
    "portfolio = np.random.dirichlet(alphas, size=1)"
   ]
  },
  {
   "cell_type": "code",
   "execution_count": 49,
   "id": "b49a9dab",
   "metadata": {},
   "outputs": [
    {
     "data": {
      "text/html": [
       "<div>\n",
       "<style scoped>\n",
       "    .dataframe tbody tr th:only-of-type {\n",
       "        vertical-align: middle;\n",
       "    }\n",
       "\n",
       "    .dataframe tbody tr th {\n",
       "        vertical-align: top;\n",
       "    }\n",
       "\n",
       "    .dataframe thead th {\n",
       "        text-align: right;\n",
       "    }\n",
       "</style>\n",
       "<table border=\"1\" class=\"dataframe\">\n",
       "  <thead>\n",
       "    <tr style=\"text-align: right;\">\n",
       "      <th>Date</th>\n",
       "      <th>2022-01-18</th>\n",
       "      <th>2022-01-19</th>\n",
       "      <th>2022-01-20</th>\n",
       "      <th>2022-01-21</th>\n",
       "      <th>2022-01-24</th>\n",
       "      <th>2022-01-25</th>\n",
       "      <th>2022-01-26</th>\n",
       "      <th>2022-01-27</th>\n",
       "      <th>2022-01-28</th>\n",
       "      <th>2022-01-31</th>\n",
       "      <th>...</th>\n",
       "      <th>2022-04-04</th>\n",
       "      <th>2022-04-05</th>\n",
       "      <th>2022-04-06</th>\n",
       "      <th>2022-04-07</th>\n",
       "      <th>2022-04-08</th>\n",
       "      <th>2022-04-11</th>\n",
       "      <th>2022-04-12</th>\n",
       "      <th>2022-04-13</th>\n",
       "      <th>2022-04-14</th>\n",
       "      <th>2022-04-18</th>\n",
       "    </tr>\n",
       "  </thead>\n",
       "  <tbody>\n",
       "    <tr>\n",
       "      <th>GLD</th>\n",
       "      <td>0.0</td>\n",
       "      <td>0.015881</td>\n",
       "      <td>-0.002499</td>\n",
       "      <td>-0.003262</td>\n",
       "      <td>0.005494</td>\n",
       "      <td>0.003197</td>\n",
       "      <td>-0.016166</td>\n",
       "      <td>-0.012898</td>\n",
       "      <td>-0.002983</td>\n",
       "      <td>0.005925</td>\n",
       "      <td>...</td>\n",
       "      <td>0.004847</td>\n",
       "      <td>-0.006265</td>\n",
       "      <td>0.002343</td>\n",
       "      <td>0.003785</td>\n",
       "      <td>0.006266</td>\n",
       "      <td>0.004959</td>\n",
       "      <td>0.007677</td>\n",
       "      <td>0.004789</td>\n",
       "      <td>-0.003304</td>\n",
       "      <td>0.009225</td>\n",
       "    </tr>\n",
       "    <tr>\n",
       "      <th>SPY</th>\n",
       "      <td>0.0</td>\n",
       "      <td>-0.010384</td>\n",
       "      <td>-0.011068</td>\n",
       "      <td>-0.019631</td>\n",
       "      <td>0.004247</td>\n",
       "      <td>-0.012209</td>\n",
       "      <td>-0.002509</td>\n",
       "      <td>-0.004938</td>\n",
       "      <td>0.024835</td>\n",
       "      <td>0.018011</td>\n",
       "      <td>...</td>\n",
       "      <td>0.008567</td>\n",
       "      <td>-0.012631</td>\n",
       "      <td>-0.009999</td>\n",
       "      <td>0.005039</td>\n",
       "      <td>-0.002674</td>\n",
       "      <td>-0.017092</td>\n",
       "      <td>-0.003705</td>\n",
       "      <td>0.011454</td>\n",
       "      <td>-0.012452</td>\n",
       "      <td>0.002284</td>\n",
       "    </tr>\n",
       "  </tbody>\n",
       "</table>\n",
       "<p>2 rows × 63 columns</p>\n",
       "</div>"
      ],
      "text/plain": [
       "Date  2022-01-18  2022-01-19  2022-01-20  2022-01-21  2022-01-24  2022-01-25  \\\n",
       "GLD          0.0    0.015881   -0.002499   -0.003262    0.005494    0.003197   \n",
       "SPY          0.0   -0.010384   -0.011068   -0.019631    0.004247   -0.012209   \n",
       "\n",
       "Date  2022-01-26  2022-01-27  2022-01-28  2022-01-31  ...  2022-04-04  \\\n",
       "GLD    -0.016166   -0.012898   -0.002983    0.005925  ...    0.004847   \n",
       "SPY    -0.002509   -0.004938    0.024835    0.018011  ...    0.008567   \n",
       "\n",
       "Date  2022-04-05  2022-04-06  2022-04-07  2022-04-08  2022-04-11  2022-04-12  \\\n",
       "GLD    -0.006265    0.002343    0.003785    0.006266    0.004959    0.007677   \n",
       "SPY    -0.012631   -0.009999    0.005039   -0.002674   -0.017092   -0.003705   \n",
       "\n",
       "Date  2022-04-13  2022-04-14  2022-04-18  \n",
       "GLD     0.004789   -0.003304    0.009225  \n",
       "SPY     0.011454   -0.012452    0.002284  \n",
       "\n",
       "[2 rows x 63 columns]"
      ]
     },
     "execution_count": 49,
     "metadata": {},
     "output_type": "execute_result"
    }
   ],
   "source": [
    "returns.fillna(0).T"
   ]
  },
  {
   "cell_type": "code",
   "execution_count": 47,
   "id": "93c53c45",
   "metadata": {},
   "outputs": [],
   "source": [
    "covariance = np.cov(returns.fillna(0).T)"
   ]
  },
  {
   "cell_type": "code",
   "execution_count": 48,
   "id": "d042c519",
   "metadata": {},
   "outputs": [
    {
     "data": {
      "text/plain": [
       "array([[ 9.98329686e-05, -5.24688368e-05],\n",
       "       [-5.24688368e-05,  1.79242690e-04]])"
      ]
     },
     "execution_count": 48,
     "metadata": {},
     "output_type": "execute_result"
    }
   ],
   "source": [
    "covariance"
   ]
  },
  {
   "cell_type": "code",
   "execution_count": 57,
   "id": "73509a6e",
   "metadata": {},
   "outputs": [
    {
     "data": {
      "text/plain": [
       "array([[9.99999974e-01, 2.63967876e-08]])"
      ]
     },
     "execution_count": 57,
     "metadata": {},
     "output_type": "execute_result"
    }
   ],
   "source": [
    "portfolio"
   ]
  },
  {
   "cell_type": "code",
   "execution_count": null,
   "id": "a36a2694",
   "metadata": {},
   "outputs": [],
   "source": [
    "portfolio_volatility = np.sqrt(np.dot(np.dot(portfolio, covariance), portfolio.T))"
   ]
  },
  {
   "cell_type": "markdown",
   "id": "3514d741",
   "metadata": {},
   "source": [
    "## Actual"
   ]
  },
  {
   "cell_type": "markdown",
   "id": "7bb8f82d",
   "metadata": {},
   "source": [
    "### Volatility"
   ]
  },
  {
   "cell_type": "code",
   "execution_count": 51,
   "id": "a6e590a9",
   "metadata": {},
   "outputs": [
    {
     "name": "stdout",
     "output_type": "stream",
     "text": [
      "[*********************100%***********************]  3 of 3 completed\n"
     ]
    }
   ],
   "source": [
    "downloaded_data_y1, downloaded_data_y1_returns = download_data(2016, True)"
   ]
  },
  {
   "cell_type": "code",
   "execution_count": 54,
   "id": "c26b1c57",
   "metadata": {},
   "outputs": [],
   "source": [
    "covariance = np.cov(downloaded_data_y1_returns.T)"
   ]
  },
  {
   "cell_type": "code",
   "execution_count": 55,
   "id": "37a7b476",
   "metadata": {},
   "outputs": [
    {
     "data": {
      "text/plain": [
       "array([[ 1.03882540e-04, -2.94840813e-05,  4.03527566e-05],\n",
       "       [-2.94840813e-05,  6.76972391e-05, -2.49866523e-05],\n",
       "       [ 4.03527566e-05, -2.49866523e-05,  6.63123314e-05]])"
      ]
     },
     "execution_count": 55,
     "metadata": {},
     "output_type": "execute_result"
    }
   ],
   "source": [
    "covariance"
   ]
  },
  {
   "cell_type": "code",
   "execution_count": 61,
   "id": "8ba1484d",
   "metadata": {},
   "outputs": [],
   "source": [
    "weight_vector = model_rpp(downloaded_data_y1_returns).to_numpy().T"
   ]
  },
  {
   "cell_type": "code",
   "execution_count": 64,
   "id": "39f4a4d8",
   "metadata": {},
   "outputs": [
    {
     "data": {
      "text/plain": [
       "0.004349707745617772"
      ]
     },
     "execution_count": 64,
     "metadata": {},
     "output_type": "execute_result"
    }
   ],
   "source": [
    "portfolio_volatility = np.sqrt(np.dot(np.dot(weight_vector, covariance), weight_vector.T))\n",
    "portfolio_volatility[0][0]"
   ]
  },
  {
   "cell_type": "markdown",
   "id": "dcd0ae20",
   "metadata": {},
   "source": [
    "#### Sharpe Ratio"
   ]
  },
  {
   "cell_type": "code",
   "execution_count": 104,
   "id": "d3db42ba",
   "metadata": {},
   "outputs": [
    {
     "data": {
      "text/plain": [
       "GLD    11.544749\n",
       "SPY    17.626270\n",
       "TLT     9.966710\n",
       "dtype: float64"
      ]
     },
     "execution_count": 104,
     "metadata": {},
     "output_type": "execute_result"
    }
   ],
   "source": [
    "def calculate_sharpe_ratio(returns):\n",
    "    return (252*0.5)*(returns.mean()/returns.std())\n",
    "calculate_sharpe_ratio(downloaded_data_y1_returns)"
   ]
  },
  {
   "cell_type": "code",
   "execution_count": null,
   "id": "8c26596a",
   "metadata": {},
   "outputs": [],
   "source": [
    " df[list(df.columns)].sum(axis=1)"
   ]
  },
  {
   "cell_type": "code",
   "execution_count": 121,
   "id": "0e80697e",
   "metadata": {},
   "outputs": [
    {
     "data": {
      "text/html": [
       "<div>\n",
       "<style scoped>\n",
       "    .dataframe tbody tr th:only-of-type {\n",
       "        vertical-align: middle;\n",
       "    }\n",
       "\n",
       "    .dataframe tbody tr th {\n",
       "        vertical-align: top;\n",
       "    }\n",
       "\n",
       "    .dataframe thead th {\n",
       "        text-align: right;\n",
       "    }\n",
       "</style>\n",
       "<table border=\"1\" class=\"dataframe\">\n",
       "  <thead>\n",
       "    <tr style=\"text-align: right;\">\n",
       "      <th></th>\n",
       "      <th>GLD</th>\n",
       "      <th>SPY</th>\n",
       "      <th>TLT</th>\n",
       "      <th>Total</th>\n",
       "    </tr>\n",
       "    <tr>\n",
       "      <th>Date</th>\n",
       "      <th></th>\n",
       "      <th></th>\n",
       "      <th></th>\n",
       "      <th></th>\n",
       "    </tr>\n",
       "  </thead>\n",
       "  <tbody>\n",
       "    <tr>\n",
       "      <th>2018-12-31</th>\n",
       "      <td>271.275383</td>\n",
       "      <td>407.385456</td>\n",
       "      <td>321.339161</td>\n",
       "      <td>1000.000000</td>\n",
       "    </tr>\n",
       "    <tr>\n",
       "      <th>2019-01-02</th>\n",
       "      <td>271.454372</td>\n",
       "      <td>407.809299</td>\n",
       "      <td>323.031674</td>\n",
       "      <td>1002.295345</td>\n",
       "    </tr>\n",
       "    <tr>\n",
       "      <th>2019-01-03</th>\n",
       "      <td>273.915424</td>\n",
       "      <td>398.077851</td>\n",
       "      <td>326.707605</td>\n",
       "      <td>998.700880</td>\n",
       "    </tr>\n",
       "    <tr>\n",
       "      <th>2019-01-04</th>\n",
       "      <td>271.700479</td>\n",
       "      <td>411.411709</td>\n",
       "      <td>322.925887</td>\n",
       "      <td>1006.038075</td>\n",
       "    </tr>\n",
       "    <tr>\n",
       "      <th>2019-01-07</th>\n",
       "      <td>272.640151</td>\n",
       "      <td>414.655595</td>\n",
       "      <td>321.973821</td>\n",
       "      <td>1009.269568</td>\n",
       "    </tr>\n",
       "    <tr>\n",
       "      <th>...</th>\n",
       "      <td>...</td>\n",
       "      <td>...</td>\n",
       "      <td>...</td>\n",
       "      <td>...</td>\n",
       "    </tr>\n",
       "    <tr>\n",
       "      <th>2019-12-23</th>\n",
       "      <td>313.113311</td>\n",
       "      <td>533.524022</td>\n",
       "      <td>369.332642</td>\n",
       "      <td>1215.969975</td>\n",
       "    </tr>\n",
       "    <tr>\n",
       "      <th>2019-12-24</th>\n",
       "      <td>316.066593</td>\n",
       "      <td>533.540607</td>\n",
       "      <td>370.388336</td>\n",
       "      <td>1219.995536</td>\n",
       "    </tr>\n",
       "    <tr>\n",
       "      <th>2019-12-26</th>\n",
       "      <td>318.550023</td>\n",
       "      <td>536.380831</td>\n",
       "      <td>371.281566</td>\n",
       "      <td>1226.212420</td>\n",
       "    </tr>\n",
       "    <tr>\n",
       "      <th>2019-12-27</th>\n",
       "      <td>318.438150</td>\n",
       "      <td>536.247939</td>\n",
       "      <td>371.687662</td>\n",
       "      <td>1226.373751</td>\n",
       "    </tr>\n",
       "    <tr>\n",
       "      <th>2019-12-30</th>\n",
       "      <td>319.109354</td>\n",
       "      <td>533.291408</td>\n",
       "      <td>370.334181</td>\n",
       "      <td>1222.734943</td>\n",
       "    </tr>\n",
       "  </tbody>\n",
       "</table>\n",
       "<p>252 rows × 4 columns</p>\n",
       "</div>"
      ],
      "text/plain": [
       "                   GLD         SPY         TLT        Total\n",
       "Date                                                       \n",
       "2018-12-31  271.275383  407.385456  321.339161  1000.000000\n",
       "2019-01-02  271.454372  407.809299  323.031674  1002.295345\n",
       "2019-01-03  273.915424  398.077851  326.707605   998.700880\n",
       "2019-01-04  271.700479  411.411709  322.925887  1006.038075\n",
       "2019-01-07  272.640151  414.655595  321.973821  1009.269568\n",
       "...                ...         ...         ...          ...\n",
       "2019-12-23  313.113311  533.524022  369.332642  1215.969975\n",
       "2019-12-24  316.066593  533.540607  370.388336  1219.995536\n",
       "2019-12-26  318.550023  536.380831  371.281566  1226.212420\n",
       "2019-12-27  318.438150  536.247939  371.687662  1226.373751\n",
       "2019-12-30  319.109354  533.291408  370.334181  1222.734943\n",
       "\n",
       "[252 rows x 4 columns]"
      ]
     },
     "execution_count": 121,
     "metadata": {},
     "output_type": "execute_result"
    }
   ],
   "source": [
    "downloaded_data_y1[\"Total\"] = downloaded_data_y1[list(downloaded_data_y1.columns)].sum(axis = 1)\n",
    "downloaded_data_y1"
   ]
  },
  {
   "cell_type": "code",
   "execution_count": 135,
   "id": "96b44442",
   "metadata": {},
   "outputs": [
    {
     "data": {
      "text/plain": [
       "271.3048370007222"
      ]
     },
     "execution_count": 135,
     "metadata": {},
     "output_type": "execute_result"
    }
   ],
   "source": [
    "obtain_start_price(\"GLD\", downloaded_data_y1)"
   ]
  },
  {
   "cell_type": "code",
   "execution_count": null,
   "id": "4b69aa37",
   "metadata": {},
   "outputs": [],
   "source": []
  },
  {
   "cell_type": "code",
   "execution_count": null,
   "id": "44d1c7ce",
   "metadata": {},
   "outputs": [],
   "source": []
  }
 ],
 "metadata": {
  "kernelspec": {
   "display_name": "Python 3",
   "language": "python",
   "name": "python3"
  },
  "language_info": {
   "codemirror_mode": {
    "name": "ipython",
    "version": 3
   },
   "file_extension": ".py",
   "mimetype": "text/x-python",
   "name": "python",
   "nbconvert_exporter": "python",
   "pygments_lexer": "ipython3",
   "version": "3.8.8"
  }
 },
 "nbformat": 4,
 "nbformat_minor": 5
}

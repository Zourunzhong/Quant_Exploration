{
 "cells": [
  {
   "cell_type": "code",
   "execution_count": 1,
   "id": "e94ecdac",
   "metadata": {},
   "outputs": [
    {
     "name": "stderr",
     "output_type": "stream",
     "text": [
      "C:\\Users\\zouru\\anaconda3\\lib\\site-packages\\statsmodels\\tsa\\base\\tsa_model.py:7: FutureWarning: pandas.Int64Index is deprecated and will be removed from pandas in a future version. Use pandas.Index with the appropriate dtype instead.\n",
      "  from pandas import (to_datetime, Int64Index, DatetimeIndex, Period,\n",
      "C:\\Users\\zouru\\anaconda3\\lib\\site-packages\\statsmodels\\tsa\\base\\tsa_model.py:7: FutureWarning: pandas.Float64Index is deprecated and will be removed from pandas in a future version. Use pandas.Index with the appropriate dtype instead.\n",
      "  from pandas import (to_datetime, Int64Index, DatetimeIndex, Period,\n"
     ]
    }
   ],
   "source": [
    "import numpy as np\n",
    "import pandas as pd\n",
    "import yfinance as yf\n",
    "import datetime\n",
    "import riskfolio as rp"
   ]
  },
  {
   "cell_type": "code",
   "execution_count": 2,
   "id": "63659707",
   "metadata": {},
   "outputs": [],
   "source": [
    "fund_ticker = 'CSPX'\n",
    "stock_ticker = \"MSFT\""
   ]
  },
  {
   "cell_type": "code",
   "execution_count": 45,
   "id": "c0a99dd6",
   "metadata": {},
   "outputs": [],
   "source": [
    "from datetime import datetime\n",
    "t0 = datetime.now()"
   ]
  },
  {
   "cell_type": "code",
   "execution_count": 46,
   "id": "851e1ad7",
   "metadata": {},
   "outputs": [],
   "source": [
    "fund_ticker_list = {\"CSPX\" : 0.5, \"EFA\": 0.3 , \"QQQ\" : 0.2}\n",
    "count_sector = {}\n",
    "count_ticker = {}\n"
   ]
  },
  {
   "cell_type": "code",
   "execution_count": 47,
   "id": "a4d2f7c1",
   "metadata": {},
   "outputs": [],
   "source": [
    "all_fund_stock_ticker_list =  {}\n",
    "\n",
    "for fund_ticker in fund_ticker_list:\n",
    "    # store for future reference to info object\n",
    "    fund_info = yf.Ticker(fund_ticker)\n",
    "    holdings_dict_list = fund_info.info['holdings']\n",
    "    fund_stock_ticker_list = list(map(lambda x:x['symbol'], holdings_dict_list))\n",
    "    # store so outer loop does not need to be rerun if inner loop fails\n",
    "    all_fund_stock_ticker_list[fund_ticker] = fund_stock_ticker_list"
   ]
  },
  {
   "cell_type": "code",
   "execution_count": null,
   "id": "faeff5c1",
   "metadata": {},
   "outputs": [
    {
     "name": "stdout",
     "output_type": "stream",
     "text": [
      "MSFT Technology\n",
      "AAPL Technology\n",
      "AMZN Consumer Cyclical\n",
      "BRK.B Financial Services\n",
      "JNJ Healthcare\n",
      "JPM Financial Services\n",
      "FB Communication Services\n"
     ]
    }
   ],
   "source": [
    "sector_holdings = {}\n",
    "stock_ticker_dict = {}\n",
    "\n",
    "for fund_ticker in fund_ticker_list:\n",
    "    # obtain tickers of all stocks in the fund\n",
    "    fund_stock_ticker_list = all_fund_stock_ticker_list[fund_ticker]\n",
    "    \n",
    "    # iterate through each ticker\n",
    "    for stock_ticker in fund_stock_ticker_list:\n",
    "              \n",
    "        # if sector not already obtained\n",
    "        if stock_ticker not in stock_ticker_dict:\n",
    "            # obtain from .info - slow\n",
    "            stock_info = yf.Ticker(stock_ticker).info\n",
    "\n",
    "            # stock ticker not in stock_ticker_dict and stock_sector is in stock_info\n",
    "            # retrieve stock_sector from stock_info\n",
    "            if \"sector\" in stock_info:\n",
    "                stock_sector = stock_info['sector']\n",
    "                \n",
    "            else:\n",
    "                # edge case\n",
    "                if stock_ticker == \"BRK.B\":\n",
    "                    stock_sector = \"Financial Services\"\n",
    "\n",
    "            # store sector into stock_ticker_dict for future reference\n",
    "            stock_ticker_dict[stock_ticker] = stock_sector\n",
    "        else:\n",
    "            stock_sector = stock_ticker_dict[stock_ticker]\n",
    "\n",
    "        print(stock_ticker, stock_sector)\n",
    "        \n",
    "        # portfolio allocation weight\n",
    "        weight_of_fund = fund_ticker_list[fund_ticker]\n",
    "\n",
    "        # add to count for each sector\n",
    "        if stock_sector not in sector_holdings:\n",
    "            sector_holdings[stock_sector] = weight_of_fund\n",
    "\n",
    "        else:\n",
    "            sector_holdings[stock_sector] += weight_of_fund\n"
   ]
  },
  {
   "cell_type": "code",
   "execution_count": 49,
   "id": "8ac85347",
   "metadata": {},
   "outputs": [
    {
     "name": "stdout",
     "output_type": "stream",
     "text": [
      "{'Technology': 9, 'Consumer Cyclical': 5, 'Financial Services': 3, 'Healthcare': 4, 'Communication Services': 7, 'Energy': 1, 'Consumer Defensive': 1} {'MSFT': 2, 'AAPL': 2, 'AMZN': 2, 'BRK.B': 1, 'JNJ': 1, 'JPM': 1, 'FB': 2, 'GOOG': 2, 'XOM': 1, 'GOOGL': 2, 'NESN': 1, 'ASML': 1, 'ROG': 1, 'NOVN': 1, 'MC.PA': 1, '7203': 1, 'AZN.L': 1, 'NOVO B': 1, 'SAP.DE': 1, 'ULVR.L': 1, 'TSLA': 1, 'NVDA': 1, 'PYPL': 1, 'ADBE': 1}\n"
     ]
    }
   ],
   "source": [
    "print(count_sector, count_ticker)\n",
    "\n",
    "# stock counts are correct\n",
    "# count sector is wrong meaning that stock is not in the right sectors"
   ]
  },
  {
   "cell_type": "code",
   "execution_count": 40,
   "id": "04e33ec1",
   "metadata": {},
   "outputs": [
    {
     "data": {
      "text/plain": [
       "datetime.timedelta(seconds=311, microseconds=853617)"
      ]
     },
     "execution_count": 40,
     "metadata": {},
     "output_type": "execute_result"
    }
   ],
   "source": [
    "datetime.now() - t0"
   ]
  },
  {
   "cell_type": "code",
   "execution_count": 57,
   "id": "4455e4bc",
   "metadata": {},
   "outputs": [
    {
     "data": {
      "text/plain": [
       "{}"
      ]
     },
     "execution_count": 57,
     "metadata": {},
     "output_type": "execute_result"
    }
   ],
   "source": [
    "count_ticker"
   ]
  },
  {
   "cell_type": "code",
   "execution_count": 60,
   "id": "27474490",
   "metadata": {},
   "outputs": [
    {
     "name": "stdout",
     "output_type": "stream",
     "text": [
      "30 30\n"
     ]
    }
   ],
   "source": [
    "count_ticker = {'MSFT': 2, 'AAPL': 2, 'AMZN': 2, 'BRK.B': 1, 'JNJ': 1, 'JPM': 1, 'FB': 2, 'GOOG': 2, 'XOM': 1, 'GOOGL': 2, 'NESN': 1, 'ASML': 1, 'ROG': 1, 'NOVN': 1, 'MC.PA': 1, '7203': 1, 'AZN.L': 1, 'NOVO B': 1, 'SAP.DE': 1, 'ULVR.L': 1, 'TSLA': 1, 'NVDA': 1, 'PYPL': 1, 'ADBE': 1}\n",
    "total = 0\n",
    "for key in count_ticker:\n",
    "    total += count_ticker[key]\n",
    "total\n",
    "\n",
    "\n",
    "total2 = 0\n",
    "count_sector = {'Technology': 9, 'Consumer Cyclical': 5, 'Financial Services': 3, 'Healthcare': 4, 'Communication Services': 7, 'Energy': 1, 'Consumer Defensive': 1}\n",
    "\n",
    "for key in count_sector:\n",
    "    total2 += count_sector[key]\n",
    "print(total, total2)"
   ]
  },
  {
   "cell_type": "code",
   "execution_count": 61,
   "id": "a3f7e75e",
   "metadata": {},
   "outputs": [
    {
     "name": "stdout",
     "output_type": "stream",
     "text": [
      "30 27\n"
     ]
    }
   ],
   "source": [
    "last = {'Technology': 9, 'Consumer Cyclical': 4, 'Financial Services': 3, 'Healthcare': 3, 'Communication Services': 6, 'Energy': 1, 'Consumer Defensive': 1}\n",
    "\n",
    "\n",
    "total3 = 0\n",
    "for key in last:\n",
    "    total3 += last[key]\n",
    "print(total, total3)\n",
    "\n"
   ]
  },
  {
   "cell_type": "code",
   "execution_count": 52,
   "id": "a7a82141",
   "metadata": {},
   "outputs": [
    {
     "data": {
      "text/plain": [
       "{'Technology': 2.7000000000000006,\n",
       " 'Consumer Cyclical': 1.5,\n",
       " 'Financial Services': 1.2,\n",
       " 'Healthcare': 1.4000000000000001,\n",
       " 'Communication Services': 2.4000000000000004,\n",
       " 'Energy': 0.5,\n",
       " 'Consumer Defensive': 0.3}"
      ]
     },
     "execution_count": 52,
     "metadata": {},
     "output_type": "execute_result"
    }
   ],
   "source": [
    "sector_holdings"
   ]
  },
  {
   "cell_type": "markdown",
   "id": "34ed29fc",
   "metadata": {},
   "source": [
    "careful"
   ]
  },
  {
   "cell_type": "code",
   "execution_count": 8,
   "id": "fcde1130",
   "metadata": {},
   "outputs": [
    {
     "data": {
      "text/plain": [
       "{'Technology': 2.7000000000000006,\n",
       " 'Consumer Cyclical': 1.2,\n",
       " 'Financial Services': 1.2,\n",
       " 'Healthcare': 1.1,\n",
       " 'Communication Services': 2.1,\n",
       " 'Energy': 0.5,\n",
       " 'Consumer Defensive': 0.3}"
      ]
     },
     "execution_count": 8,
     "metadata": {},
     "output_type": "execute_result"
    }
   ],
   "source": [
    "# new\n",
    "sector_holdings"
   ]
  },
  {
   "cell_type": "code",
   "execution_count": null,
   "id": "f2bf53e3",
   "metadata": {},
   "outputs": [],
   "source": [
    "sector_holdings_df = pd.DataFrame(sector_holdings, index = [0, ])\n",
    "total = sector_holdings_df.sum(axis = 1)[0]\n",
    "sector_holdings_df/total"
   ]
  },
  {
   "cell_type": "code",
   "execution_count": null,
   "id": "e1de13d0",
   "metadata": {
    "scrolled": true
   },
   "outputs": [],
   "source": [
    "yf.Ticker(\"BRK.B\").info#['sector']"
   ]
  },
  {
   "cell_type": "code",
   "execution_count": null,
   "id": "0abdc67d",
   "metadata": {},
   "outputs": [],
   "source": []
  }
 ],
 "metadata": {
  "kernelspec": {
   "display_name": "Python 3",
   "language": "python",
   "name": "python3"
  },
  "language_info": {
   "codemirror_mode": {
    "name": "ipython",
    "version": 3
   },
   "file_extension": ".py",
   "mimetype": "text/x-python",
   "name": "python",
   "nbconvert_exporter": "python",
   "pygments_lexer": "ipython3",
   "version": "3.8.8"
  }
 },
 "nbformat": 4,
 "nbformat_minor": 5
}

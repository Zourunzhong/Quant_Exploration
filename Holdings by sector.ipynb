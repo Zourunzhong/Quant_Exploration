{
 "cells": [
  {
   "cell_type": "code",
   "execution_count": null,
   "id": "905880ad",
   "metadata": {},
   "outputs": [],
   "source": [
    "import numpy as np\n",
    "import pandas as pd\n",
    "import yfinance as yf\n",
    "import datetime\n",
    "import riskfolio as rp"
   ]
  },
  {
   "cell_type": "code",
   "execution_count": 7,
   "id": "f616dd27",
   "metadata": {},
   "outputs": [],
   "source": [
    "fund_ticker = 'CSPX'\n",
    "stock_ticker = \"MSFT\""
   ]
  },
  {
   "cell_type": "code",
   "execution_count": 44,
   "id": "9c7f7de6",
   "metadata": {},
   "outputs": [],
   "source": [
    "fund_tickers = {\"CSPX\" : 0.5, \"EFA\": 0.3 , \"QQQ\" : 0.2}\n",
    "sector_holdings = {}"
   ]
  },
  {
   "cell_type": "code",
   "execution_count": 45,
   "id": "df944595",
   "metadata": {},
   "outputs": [],
   "source": [
    "all_fund_stock_ticker_list =  {}\n",
    "for fund_ticker in fund_tickers:\n",
    "    # store for future reference to info object\n",
    "    fund_info = yf.Ticker(fund_ticker)\n",
    "    holdings_dict_list = fund_info.info['holdings']\n",
    "    fund_stock_ticker_list = list(map(lambda x:x['symbol'], holdings_dict_list))\n",
    "    # store so outer loop does not need to be rerun if inner loop fails\n",
    "    all_fund_stock_ticker_list[fund_ticker] = fund_ticker_list"
   ]
  },
  {
   "cell_type": "code",
   "execution_count": null,
   "id": "ca0b3781",
   "metadata": {},
   "outputs": [],
   "source": [
    "for fund_ticker in fund_tickers:\n",
    "    fund_stock_ticker_list = all_fund_stock_ticker_list[fund_ticker]\n",
    "    \n",
    "    for stock_ticker in fund_ticker_list:\n",
    "        # store for future reference to info object\n",
    "        stock_info = yf.Ticker(stock_ticker).info\n",
    "        \n",
    "        try:\n",
    "            stock_sector = stock_info['sector']     \n",
    "            \n",
    "            # portfolio allocation\n",
    "            weight_of_fund = fund_tickers[fund_ticker]\n",
    "\n",
    "            if stock_sector not in sector_holdings:\n",
    "                sector_holdings[stock_sector] = weight_of_fund\n",
    "            else:\n",
    "                sector_holdings[stock_sector] += weight_of_fund\n",
    "        except:\n",
    "            print(stock_ticker)"
   ]
  },
  {
   "cell_type": "code",
   "execution_count": 47,
   "id": "700deaa2",
   "metadata": {},
   "outputs": [
    {
     "data": {
      "text/plain": [
       "{'Technology': 2.0,\n",
       " 'Consumer Cyclical': 1.0,\n",
       " 'Healthcare': 1.0,\n",
       " 'Financial Services': 1.0,\n",
       " 'Communication Services': 3.0000000000000004,\n",
       " 'Energy': 1.0}"
      ]
     },
     "execution_count": 47,
     "metadata": {},
     "output_type": "execute_result"
    }
   ],
   "source": [
    "sector_holdings"
   ]
  },
  {
   "cell_type": "code",
   "execution_count": 28,
   "id": "c6f01b66",
   "metadata": {},
   "outputs": [
    {
     "name": "stdout",
     "output_type": "stream",
     "text": [
      "MSFT\n",
      "AAPL\n",
      "AMZN\n",
      "BRK.B\n",
      "JNJ\n",
      "JPM\n",
      "FB\n",
      "GOOG\n",
      "XOM\n",
      "GOOGL\n"
     ]
    }
   ],
   "source": [
    "for stock_ticker in fund_ticker_list:\n",
    "    print(stock_ticker)"
   ]
  },
  {
   "cell_type": "code",
   "execution_count": 61,
   "id": "74dbcbb0",
   "metadata": {},
   "outputs": [
    {
     "data": {
      "text/html": [
       "<div>\n",
       "<style scoped>\n",
       "    .dataframe tbody tr th:only-of-type {\n",
       "        vertical-align: middle;\n",
       "    }\n",
       "\n",
       "    .dataframe tbody tr th {\n",
       "        vertical-align: top;\n",
       "    }\n",
       "\n",
       "    .dataframe thead th {\n",
       "        text-align: right;\n",
       "    }\n",
       "</style>\n",
       "<table border=\"1\" class=\"dataframe\">\n",
       "  <thead>\n",
       "    <tr style=\"text-align: right;\">\n",
       "      <th></th>\n",
       "      <th>Technology</th>\n",
       "      <th>Consumer Cyclical</th>\n",
       "      <th>Healthcare</th>\n",
       "      <th>Financial Services</th>\n",
       "      <th>Communication Services</th>\n",
       "      <th>Energy</th>\n",
       "    </tr>\n",
       "  </thead>\n",
       "  <tbody>\n",
       "    <tr>\n",
       "      <th>0</th>\n",
       "      <td>0.222222</td>\n",
       "      <td>0.111111</td>\n",
       "      <td>0.111111</td>\n",
       "      <td>0.111111</td>\n",
       "      <td>0.333333</td>\n",
       "      <td>0.111111</td>\n",
       "    </tr>\n",
       "  </tbody>\n",
       "</table>\n",
       "</div>"
      ],
      "text/plain": [
       "   Technology  Consumer Cyclical  Healthcare  Financial Services  \\\n",
       "0    0.222222           0.111111    0.111111            0.111111   \n",
       "\n",
       "   Communication Services    Energy  \n",
       "0                0.333333  0.111111  "
      ]
     },
     "execution_count": 61,
     "metadata": {},
     "output_type": "execute_result"
    }
   ],
   "source": [
    "sector_holdings_df = pd.DataFrame(sector_holdings, index = [0, ])\n",
    "total = sector_holdings_df.sum(axis = 1)[0]\n",
    "sector_holdings_df/total"
   ]
  },
  {
   "cell_type": "code",
   "execution_count": 33,
   "id": "98e6057c",
   "metadata": {
    "scrolled": true
   },
   "outputs": [
    {
     "data": {
      "text/plain": [
       "{'symbol': 'BRK.B',\n",
       " 'quoteType': 'EQUITY',\n",
       " 'gmtOffSetMilliseconds': 'null',\n",
       " 'isEsgPopulated': False,\n",
       " 'previousClose': None,\n",
       " 'regularMarketOpen': None,\n",
       " 'twoHundredDayAverage': None,\n",
       " 'trailingAnnualDividendYield': None,\n",
       " 'payoutRatio': None,\n",
       " 'volume24Hr': None,\n",
       " 'regularMarketDayHigh': None,\n",
       " 'navPrice': None,\n",
       " 'averageDailyVolume10Day': None,\n",
       " 'totalAssets': None,\n",
       " 'regularMarketPreviousClose': None,\n",
       " 'fiftyDayAverage': None,\n",
       " 'trailingAnnualDividendRate': None,\n",
       " 'open': None,\n",
       " 'toCurrency': None,\n",
       " 'averageVolume10days': None,\n",
       " 'expireDate': None,\n",
       " 'yield': None,\n",
       " 'algorithm': None,\n",
       " 'dividendRate': None,\n",
       " 'exDividendDate': None,\n",
       " 'beta': None,\n",
       " 'circulatingSupply': None,\n",
       " 'startDate': None,\n",
       " 'regularMarketDayLow': None,\n",
       " 'priceHint': 2,\n",
       " 'currency': None,\n",
       " 'regularMarketVolume': None,\n",
       " 'lastMarket': None,\n",
       " 'maxSupply': None,\n",
       " 'openInterest': None,\n",
       " 'marketCap': None,\n",
       " 'volumeAllCurrencies': None,\n",
       " 'strikePrice': None,\n",
       " 'averageVolume': None,\n",
       " 'priceToSalesTrailing12Months': None,\n",
       " 'dayLow': None,\n",
       " 'ask': None,\n",
       " 'ytdReturn': None,\n",
       " 'askSize': None,\n",
       " 'volume': None,\n",
       " 'fiftyTwoWeekHigh': None,\n",
       " 'forwardPE': None,\n",
       " 'maxAge': 1,\n",
       " 'fromCurrency': None,\n",
       " 'fiveYearAvgDividendYield': None,\n",
       " 'fiftyTwoWeekLow': None,\n",
       " 'bid': None,\n",
       " 'tradeable': False,\n",
       " 'dividendYield': None,\n",
       " 'bidSize': None,\n",
       " 'dayHigh': None,\n",
       " 'regularMarketPrice': None,\n",
       " 'preMarketPrice': None,\n",
       " 'logo_url': ''}"
      ]
     },
     "execution_count": 33,
     "metadata": {},
     "output_type": "execute_result"
    }
   ],
   "source": [
    "yf.Ticker(\"BRK.B\").info#['sector']"
   ]
  },
  {
   "cell_type": "code",
   "execution_count": null,
   "id": "759e1dcd",
   "metadata": {},
   "outputs": [],
   "source": []
  }
 ],
 "metadata": {
  "kernelspec": {
   "display_name": "Python 3",
   "language": "python",
   "name": "python3"
  },
  "language_info": {
   "codemirror_mode": {
    "name": "ipython",
    "version": 3
   },
   "file_extension": ".py",
   "mimetype": "text/x-python",
   "name": "python",
   "nbconvert_exporter": "python",
   "pygments_lexer": "ipython3",
   "version": "3.8.8"
  }
 },
 "nbformat": 4,
 "nbformat_minor": 5
}
